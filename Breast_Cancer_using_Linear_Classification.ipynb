{
  "nbformat": 4,
  "nbformat_minor": 0,
  "metadata": {
    "colab": {
      "name": "Breast Cancer using Linear Classification",
      "provenance": [],
      "authorship_tag": "ABX9TyPjJVXmJN64JLRfwePdhskn",
      "include_colab_link": true
    },
    "kernelspec": {
      "name": "python3",
      "display_name": "Python 3"
    }
  },
  "cells": [
    {
      "cell_type": "markdown",
      "metadata": {
        "id": "view-in-github",
        "colab_type": "text"
      },
      "source": [
        "<a href=\"https://colab.research.google.com/github/d1m3j1/Machine-Learning/blob/main/Breast_Cancer_using_Linear_Classification.ipynb\" target=\"_parent\"><img src=\"https://colab.research.google.com/assets/colab-badge.svg\" alt=\"Open In Colab\"/></a>"
      ]
    },
    {
      "cell_type": "markdown",
      "metadata": {
        "id": "6nh0PyizQMBg"
      },
      "source": [
        "### **Breast Cancer Classification With Linear Classification**"
      ]
    },
    {
      "cell_type": "code",
      "metadata": {
        "id": "hPLISwY4zSsb"
      },
      "source": [
        "import tensorflow as tf \n",
        "import numpy as np\n",
        "from sklearn.datasets import load_breast_cancer\n",
        "from sklearn.model_selection import train_test_split\n",
        "from sklearn.preprocessing import StandardScaler\n",
        "import matplotlib.pyplot as plt"
      ],
      "execution_count": 2,
      "outputs": []
    },
    {
      "cell_type": "code",
      "metadata": {
        "id": "_IcyJSUxmT-k"
      },
      "source": [
        "data = load_breast_cancer()"
      ],
      "execution_count": 3,
      "outputs": []
    },
    {
      "cell_type": "code",
      "metadata": {
        "colab": {
          "base_uri": "https://localhost:8080/"
        },
        "id": "cIxW6I_2mYk6",
        "outputId": "ac222c8f-0120-4182-efa6-4359f185c19d"
      },
      "source": [
        "data.keys()"
      ],
      "execution_count": 4,
      "outputs": [
        {
          "output_type": "execute_result",
          "data": {
            "text/plain": [
              "dict_keys(['data', 'target', 'target_names', 'DESCR', 'feature_names', 'filename'])"
            ]
          },
          "metadata": {
            "tags": []
          },
          "execution_count": 4
        }
      ]
    },
    {
      "cell_type": "code",
      "metadata": {
        "id": "-CBuuaVomh7a",
        "colab": {
          "base_uri": "https://localhost:8080/"
        },
        "outputId": "78f44f13-1829-4438-c0f8-7beb24f36398"
      },
      "source": [
        "data.target"
      ],
      "execution_count": 5,
      "outputs": [
        {
          "output_type": "execute_result",
          "data": {
            "text/plain": [
              "array([0, 0, 0, 0, 0, 0, 0, 0, 0, 0, 0, 0, 0, 0, 0, 0, 0, 0, 0, 1, 1, 1,\n",
              "       0, 0, 0, 0, 0, 0, 0, 0, 0, 0, 0, 0, 0, 0, 0, 1, 0, 0, 0, 0, 0, 0,\n",
              "       0, 0, 1, 0, 1, 1, 1, 1, 1, 0, 0, 1, 0, 0, 1, 1, 1, 1, 0, 1, 0, 0,\n",
              "       1, 1, 1, 1, 0, 1, 0, 0, 1, 0, 1, 0, 0, 1, 1, 1, 0, 0, 1, 0, 0, 0,\n",
              "       1, 1, 1, 0, 1, 1, 0, 0, 1, 1, 1, 0, 0, 1, 1, 1, 1, 0, 1, 1, 0, 1,\n",
              "       1, 1, 1, 1, 1, 1, 1, 0, 0, 0, 1, 0, 0, 1, 1, 1, 0, 0, 1, 0, 1, 0,\n",
              "       0, 1, 0, 0, 1, 1, 0, 1, 1, 0, 1, 1, 1, 1, 0, 1, 1, 1, 1, 1, 1, 1,\n",
              "       1, 1, 0, 1, 1, 1, 1, 0, 0, 1, 0, 1, 1, 0, 0, 1, 1, 0, 0, 1, 1, 1,\n",
              "       1, 0, 1, 1, 0, 0, 0, 1, 0, 1, 0, 1, 1, 1, 0, 1, 1, 0, 0, 1, 0, 0,\n",
              "       0, 0, 1, 0, 0, 0, 1, 0, 1, 0, 1, 1, 0, 1, 0, 0, 0, 0, 1, 1, 0, 0,\n",
              "       1, 1, 1, 0, 1, 1, 1, 1, 1, 0, 0, 1, 1, 0, 1, 1, 0, 0, 1, 0, 1, 1,\n",
              "       1, 1, 0, 1, 1, 1, 1, 1, 0, 1, 0, 0, 0, 0, 0, 0, 0, 0, 0, 0, 0, 0,\n",
              "       0, 0, 1, 1, 1, 1, 1, 1, 0, 1, 0, 1, 1, 0, 1, 1, 0, 1, 0, 0, 1, 1,\n",
              "       1, 1, 1, 1, 1, 1, 1, 1, 1, 1, 1, 0, 1, 1, 0, 1, 0, 1, 1, 1, 1, 1,\n",
              "       1, 1, 1, 1, 1, 1, 1, 1, 1, 0, 1, 1, 1, 0, 1, 0, 1, 1, 1, 1, 0, 0,\n",
              "       0, 1, 1, 1, 1, 0, 1, 0, 1, 0, 1, 1, 1, 0, 1, 1, 1, 1, 1, 1, 1, 0,\n",
              "       0, 0, 1, 1, 1, 1, 1, 1, 1, 1, 1, 1, 1, 0, 0, 1, 0, 0, 0, 1, 0, 0,\n",
              "       1, 1, 1, 1, 1, 0, 1, 1, 1, 1, 1, 0, 1, 1, 1, 0, 1, 1, 0, 0, 1, 1,\n",
              "       1, 1, 1, 1, 0, 1, 1, 1, 1, 1, 1, 1, 0, 1, 1, 1, 1, 1, 0, 1, 1, 0,\n",
              "       1, 1, 1, 1, 1, 1, 1, 1, 1, 1, 1, 1, 0, 1, 0, 0, 1, 0, 1, 1, 1, 1,\n",
              "       1, 0, 1, 1, 0, 1, 0, 1, 1, 0, 1, 0, 1, 1, 1, 1, 1, 1, 1, 1, 0, 0,\n",
              "       1, 1, 1, 1, 1, 1, 0, 1, 1, 1, 1, 1, 1, 1, 1, 1, 1, 0, 1, 1, 1, 1,\n",
              "       1, 1, 1, 0, 1, 0, 1, 1, 0, 1, 1, 1, 1, 1, 0, 0, 1, 0, 1, 0, 1, 1,\n",
              "       1, 1, 1, 0, 1, 1, 0, 1, 0, 1, 0, 0, 1, 1, 1, 0, 1, 1, 1, 1, 1, 1,\n",
              "       1, 1, 1, 1, 1, 0, 1, 0, 0, 1, 1, 1, 1, 1, 1, 1, 1, 1, 1, 1, 1, 1,\n",
              "       1, 1, 1, 1, 1, 1, 1, 1, 1, 1, 1, 1, 0, 0, 0, 0, 0, 0, 1])"
            ]
          },
          "metadata": {
            "tags": []
          },
          "execution_count": 5
        }
      ]
    },
    {
      "cell_type": "code",
      "metadata": {
        "colab": {
          "base_uri": "https://localhost:8080/"
        },
        "id": "5WAyIbMlmh2D",
        "outputId": "8ef6fec5-e9a3-42c0-fc80-669d2fb740b6"
      },
      "source": [
        "data.target_names\n"
      ],
      "execution_count": 6,
      "outputs": [
        {
          "output_type": "execute_result",
          "data": {
            "text/plain": [
              "array(['malignant', 'benign'], dtype='<U9')"
            ]
          },
          "metadata": {
            "tags": []
          },
          "execution_count": 6
        }
      ]
    },
    {
      "cell_type": "code",
      "metadata": {
        "id": "bgHA3mi3nH4T"
      },
      "source": [
        "X_train, X_test, y_train, y_test = train_test_split(data.data, data.target, test_size = 0.33)\n",
        "N, D = X_train.shape"
      ],
      "execution_count": 7,
      "outputs": []
    },
    {
      "cell_type": "code",
      "metadata": {
        "id": "FiHAwxvcou7E"
      },
      "source": [
        "scaler = StandardScaler()\n",
        "X_train = scaler.fit_transform(X_train)\n",
        "X_test = scaler.fit_transform(X_test)\n"
      ],
      "execution_count": 8,
      "outputs": []
    },
    {
      "cell_type": "code",
      "metadata": {
        "id": "Jr50z4FcpCHO",
        "colab": {
          "base_uri": "https://localhost:8080/"
        },
        "outputId": "f9b446b8-f196-47d8-8b0e-31875b7d7b83"
      },
      "source": [
        "#Build the model\n",
        "model = tf.keras.models.Sequential([ \n",
        "  tf.keras.layers.Input(shape =(D, )),\n",
        "  tf.keras.layers.Dense(1, activation = 'sigmoid')\n",
        "])\n",
        "\n",
        "model.compile(optimizer = 'adam',\n",
        "              loss = 'binary_crossentropy',\n",
        "              metrics =['accuracy'])\n",
        "\n",
        "#Train the model\n",
        "r = model.fit(X_train, y_train, validation_data = (X_test, y_test), epochs = 100)\n",
        "\n",
        "#Evaluate the model - evaluate() returns loss and accuracy\n",
        "print('Train Score:', model.evaluate(X_train, y_train))\n",
        "print('Test Score:', model.evaluate(X_test, y_test))\n"
      ],
      "execution_count": 9,
      "outputs": [
        {
          "output_type": "stream",
          "text": [
            "Epoch 1/100\n",
            "12/12 [==============================] - 1s 35ms/step - loss: 1.0899 - accuracy: 0.2965 - val_loss: 1.0582 - val_accuracy: 0.2979\n",
            "Epoch 2/100\n",
            "12/12 [==============================] - 0s 5ms/step - loss: 1.0384 - accuracy: 0.3249 - val_loss: 0.9680 - val_accuracy: 0.3936\n",
            "Epoch 3/100\n",
            "12/12 [==============================] - 0s 5ms/step - loss: 0.8990 - accuracy: 0.4213 - val_loss: 0.8875 - val_accuracy: 0.4362\n",
            "Epoch 4/100\n",
            "12/12 [==============================] - 0s 5ms/step - loss: 0.8288 - accuracy: 0.4853 - val_loss: 0.8159 - val_accuracy: 0.5319\n",
            "Epoch 5/100\n",
            "12/12 [==============================] - 0s 5ms/step - loss: 0.7661 - accuracy: 0.5582 - val_loss: 0.7532 - val_accuracy: 0.6117\n",
            "Epoch 6/100\n",
            "12/12 [==============================] - 0s 5ms/step - loss: 0.7346 - accuracy: 0.6045 - val_loss: 0.6982 - val_accuracy: 0.6809\n",
            "Epoch 7/100\n",
            "12/12 [==============================] - 0s 5ms/step - loss: 0.6657 - accuracy: 0.6768 - val_loss: 0.6504 - val_accuracy: 0.7287\n",
            "Epoch 8/100\n",
            "12/12 [==============================] - 0s 5ms/step - loss: 0.6019 - accuracy: 0.7204 - val_loss: 0.6083 - val_accuracy: 0.7394\n",
            "Epoch 9/100\n",
            "12/12 [==============================] - 0s 5ms/step - loss: 0.6046 - accuracy: 0.7056 - val_loss: 0.5709 - val_accuracy: 0.7447\n",
            "Epoch 10/100\n",
            "12/12 [==============================] - 0s 4ms/step - loss: 0.5641 - accuracy: 0.7388 - val_loss: 0.5376 - val_accuracy: 0.7713\n",
            "Epoch 11/100\n",
            "12/12 [==============================] - 0s 5ms/step - loss: 0.5114 - accuracy: 0.7840 - val_loss: 0.5083 - val_accuracy: 0.7872\n",
            "Epoch 12/100\n",
            "12/12 [==============================] - 0s 5ms/step - loss: 0.4750 - accuracy: 0.8009 - val_loss: 0.4824 - val_accuracy: 0.8138\n",
            "Epoch 13/100\n",
            "12/12 [==============================] - 0s 5ms/step - loss: 0.4606 - accuracy: 0.8178 - val_loss: 0.4585 - val_accuracy: 0.8245\n",
            "Epoch 14/100\n",
            "12/12 [==============================] - 0s 5ms/step - loss: 0.4516 - accuracy: 0.7913 - val_loss: 0.4370 - val_accuracy: 0.8351\n",
            "Epoch 15/100\n",
            "12/12 [==============================] - 0s 6ms/step - loss: 0.4378 - accuracy: 0.8128 - val_loss: 0.4177 - val_accuracy: 0.8670\n",
            "Epoch 16/100\n",
            "12/12 [==============================] - 0s 5ms/step - loss: 0.4010 - accuracy: 0.8658 - val_loss: 0.3999 - val_accuracy: 0.8723\n",
            "Epoch 17/100\n",
            "12/12 [==============================] - 0s 5ms/step - loss: 0.3942 - accuracy: 0.8524 - val_loss: 0.3837 - val_accuracy: 0.8830\n",
            "Epoch 18/100\n",
            "12/12 [==============================] - 0s 5ms/step - loss: 0.3935 - accuracy: 0.8467 - val_loss: 0.3690 - val_accuracy: 0.8883\n",
            "Epoch 19/100\n",
            "12/12 [==============================] - 0s 5ms/step - loss: 0.3560 - accuracy: 0.8817 - val_loss: 0.3555 - val_accuracy: 0.8936\n",
            "Epoch 20/100\n",
            "12/12 [==============================] - 0s 5ms/step - loss: 0.3347 - accuracy: 0.8916 - val_loss: 0.3431 - val_accuracy: 0.8936\n",
            "Epoch 21/100\n",
            "12/12 [==============================] - 0s 5ms/step - loss: 0.3393 - accuracy: 0.8779 - val_loss: 0.3315 - val_accuracy: 0.9043\n",
            "Epoch 22/100\n",
            "12/12 [==============================] - 0s 5ms/step - loss: 0.3147 - accuracy: 0.8991 - val_loss: 0.3208 - val_accuracy: 0.9043\n",
            "Epoch 23/100\n",
            "12/12 [==============================] - 0s 5ms/step - loss: 0.3123 - accuracy: 0.8891 - val_loss: 0.3109 - val_accuracy: 0.9043\n",
            "Epoch 24/100\n",
            "12/12 [==============================] - 0s 5ms/step - loss: 0.3013 - accuracy: 0.9109 - val_loss: 0.3019 - val_accuracy: 0.9043\n",
            "Epoch 25/100\n",
            "12/12 [==============================] - 0s 5ms/step - loss: 0.3030 - accuracy: 0.8756 - val_loss: 0.2932 - val_accuracy: 0.9096\n",
            "Epoch 26/100\n",
            "12/12 [==============================] - 0s 5ms/step - loss: 0.3140 - accuracy: 0.8660 - val_loss: 0.2851 - val_accuracy: 0.9149\n",
            "Epoch 27/100\n",
            "12/12 [==============================] - 0s 5ms/step - loss: 0.2578 - accuracy: 0.9076 - val_loss: 0.2776 - val_accuracy: 0.9202\n",
            "Epoch 28/100\n",
            "12/12 [==============================] - 0s 5ms/step - loss: 0.2764 - accuracy: 0.9011 - val_loss: 0.2704 - val_accuracy: 0.9202\n",
            "Epoch 29/100\n",
            "12/12 [==============================] - 0s 5ms/step - loss: 0.2568 - accuracy: 0.9062 - val_loss: 0.2638 - val_accuracy: 0.9202\n",
            "Epoch 30/100\n",
            "12/12 [==============================] - 0s 5ms/step - loss: 0.2500 - accuracy: 0.8969 - val_loss: 0.2575 - val_accuracy: 0.9202\n",
            "Epoch 31/100\n",
            "12/12 [==============================] - 0s 5ms/step - loss: 0.2582 - accuracy: 0.8981 - val_loss: 0.2516 - val_accuracy: 0.9255\n",
            "Epoch 32/100\n",
            "12/12 [==============================] - 0s 4ms/step - loss: 0.2552 - accuracy: 0.9010 - val_loss: 0.2457 - val_accuracy: 0.9309\n",
            "Epoch 33/100\n",
            "12/12 [==============================] - 0s 5ms/step - loss: 0.2510 - accuracy: 0.9082 - val_loss: 0.2405 - val_accuracy: 0.9309\n",
            "Epoch 34/100\n",
            "12/12 [==============================] - 0s 5ms/step - loss: 0.2127 - accuracy: 0.9367 - val_loss: 0.2358 - val_accuracy: 0.9309\n",
            "Epoch 35/100\n",
            "12/12 [==============================] - 0s 5ms/step - loss: 0.2315 - accuracy: 0.9207 - val_loss: 0.2310 - val_accuracy: 0.9309\n",
            "Epoch 36/100\n",
            "12/12 [==============================] - 0s 5ms/step - loss: 0.2049 - accuracy: 0.9449 - val_loss: 0.2261 - val_accuracy: 0.9255\n",
            "Epoch 37/100\n",
            "12/12 [==============================] - 0s 5ms/step - loss: 0.2313 - accuracy: 0.9227 - val_loss: 0.2216 - val_accuracy: 0.9255\n",
            "Epoch 38/100\n",
            "12/12 [==============================] - 0s 5ms/step - loss: 0.2249 - accuracy: 0.9233 - val_loss: 0.2175 - val_accuracy: 0.9255\n",
            "Epoch 39/100\n",
            "12/12 [==============================] - 0s 5ms/step - loss: 0.2087 - accuracy: 0.9301 - val_loss: 0.2135 - val_accuracy: 0.9255\n",
            "Epoch 40/100\n",
            "12/12 [==============================] - 0s 5ms/step - loss: 0.1890 - accuracy: 0.9487 - val_loss: 0.2098 - val_accuracy: 0.9255\n",
            "Epoch 41/100\n",
            "12/12 [==============================] - 0s 6ms/step - loss: 0.1873 - accuracy: 0.9352 - val_loss: 0.2063 - val_accuracy: 0.9309\n",
            "Epoch 42/100\n",
            "12/12 [==============================] - 0s 5ms/step - loss: 0.1922 - accuracy: 0.9423 - val_loss: 0.2028 - val_accuracy: 0.9309\n",
            "Epoch 43/100\n",
            "12/12 [==============================] - 0s 5ms/step - loss: 0.1930 - accuracy: 0.9545 - val_loss: 0.1993 - val_accuracy: 0.9362\n",
            "Epoch 44/100\n",
            "12/12 [==============================] - 0s 5ms/step - loss: 0.2128 - accuracy: 0.9303 - val_loss: 0.1961 - val_accuracy: 0.9362\n",
            "Epoch 45/100\n",
            "12/12 [==============================] - 0s 5ms/step - loss: 0.1957 - accuracy: 0.9328 - val_loss: 0.1929 - val_accuracy: 0.9362\n",
            "Epoch 46/100\n",
            "12/12 [==============================] - 0s 5ms/step - loss: 0.1977 - accuracy: 0.9394 - val_loss: 0.1899 - val_accuracy: 0.9362\n",
            "Epoch 47/100\n",
            "12/12 [==============================] - 0s 5ms/step - loss: 0.1892 - accuracy: 0.9345 - val_loss: 0.1871 - val_accuracy: 0.9415\n",
            "Epoch 48/100\n",
            "12/12 [==============================] - 0s 5ms/step - loss: 0.1874 - accuracy: 0.9293 - val_loss: 0.1844 - val_accuracy: 0.9468\n",
            "Epoch 49/100\n",
            "12/12 [==============================] - 0s 6ms/step - loss: 0.1952 - accuracy: 0.9184 - val_loss: 0.1818 - val_accuracy: 0.9468\n",
            "Epoch 50/100\n",
            "12/12 [==============================] - 0s 5ms/step - loss: 0.1792 - accuracy: 0.9405 - val_loss: 0.1794 - val_accuracy: 0.9468\n",
            "Epoch 51/100\n",
            "12/12 [==============================] - 0s 5ms/step - loss: 0.1586 - accuracy: 0.9484 - val_loss: 0.1769 - val_accuracy: 0.9468\n",
            "Epoch 52/100\n",
            "12/12 [==============================] - 0s 5ms/step - loss: 0.1636 - accuracy: 0.9538 - val_loss: 0.1744 - val_accuracy: 0.9468\n",
            "Epoch 53/100\n",
            "12/12 [==============================] - 0s 5ms/step - loss: 0.1657 - accuracy: 0.9512 - val_loss: 0.1722 - val_accuracy: 0.9468\n",
            "Epoch 54/100\n",
            "12/12 [==============================] - 0s 5ms/step - loss: 0.1723 - accuracy: 0.9435 - val_loss: 0.1701 - val_accuracy: 0.9468\n",
            "Epoch 55/100\n",
            "12/12 [==============================] - 0s 5ms/step - loss: 0.1663 - accuracy: 0.9482 - val_loss: 0.1676 - val_accuracy: 0.9468\n",
            "Epoch 56/100\n",
            "12/12 [==============================] - 0s 5ms/step - loss: 0.1560 - accuracy: 0.9501 - val_loss: 0.1657 - val_accuracy: 0.9468\n",
            "Epoch 57/100\n",
            "12/12 [==============================] - 0s 5ms/step - loss: 0.1607 - accuracy: 0.9487 - val_loss: 0.1637 - val_accuracy: 0.9468\n",
            "Epoch 58/100\n",
            "12/12 [==============================] - 0s 6ms/step - loss: 0.1629 - accuracy: 0.9513 - val_loss: 0.1617 - val_accuracy: 0.9521\n",
            "Epoch 59/100\n",
            "12/12 [==============================] - 0s 6ms/step - loss: 0.1416 - accuracy: 0.9592 - val_loss: 0.1600 - val_accuracy: 0.9521\n",
            "Epoch 60/100\n",
            "12/12 [==============================] - 0s 5ms/step - loss: 0.1671 - accuracy: 0.9479 - val_loss: 0.1581 - val_accuracy: 0.9521\n",
            "Epoch 61/100\n",
            "12/12 [==============================] - 0s 5ms/step - loss: 0.1604 - accuracy: 0.9430 - val_loss: 0.1562 - val_accuracy: 0.9521\n",
            "Epoch 62/100\n",
            "12/12 [==============================] - 0s 5ms/step - loss: 0.1418 - accuracy: 0.9626 - val_loss: 0.1547 - val_accuracy: 0.9521\n",
            "Epoch 63/100\n",
            "12/12 [==============================] - 0s 5ms/step - loss: 0.1706 - accuracy: 0.9366 - val_loss: 0.1530 - val_accuracy: 0.9574\n",
            "Epoch 64/100\n",
            "12/12 [==============================] - 0s 4ms/step - loss: 0.1447 - accuracy: 0.9610 - val_loss: 0.1515 - val_accuracy: 0.9574\n",
            "Epoch 65/100\n",
            "12/12 [==============================] - 0s 5ms/step - loss: 0.1513 - accuracy: 0.9456 - val_loss: 0.1499 - val_accuracy: 0.9574\n",
            "Epoch 66/100\n",
            "12/12 [==============================] - 0s 5ms/step - loss: 0.1317 - accuracy: 0.9621 - val_loss: 0.1485 - val_accuracy: 0.9574\n",
            "Epoch 67/100\n",
            "12/12 [==============================] - 0s 5ms/step - loss: 0.1378 - accuracy: 0.9563 - val_loss: 0.1471 - val_accuracy: 0.9574\n",
            "Epoch 68/100\n",
            "12/12 [==============================] - 0s 6ms/step - loss: 0.1515 - accuracy: 0.9450 - val_loss: 0.1457 - val_accuracy: 0.9574\n",
            "Epoch 69/100\n",
            "12/12 [==============================] - 0s 5ms/step - loss: 0.1413 - accuracy: 0.9477 - val_loss: 0.1443 - val_accuracy: 0.9574\n",
            "Epoch 70/100\n",
            "12/12 [==============================] - 0s 5ms/step - loss: 0.1528 - accuracy: 0.9416 - val_loss: 0.1430 - val_accuracy: 0.9628\n",
            "Epoch 71/100\n",
            "12/12 [==============================] - 0s 5ms/step - loss: 0.1309 - accuracy: 0.9513 - val_loss: 0.1417 - val_accuracy: 0.9628\n",
            "Epoch 72/100\n",
            "12/12 [==============================] - 0s 5ms/step - loss: 0.1401 - accuracy: 0.9551 - val_loss: 0.1405 - val_accuracy: 0.9628\n",
            "Epoch 73/100\n",
            "12/12 [==============================] - 0s 5ms/step - loss: 0.1391 - accuracy: 0.9531 - val_loss: 0.1394 - val_accuracy: 0.9628\n",
            "Epoch 74/100\n",
            "12/12 [==============================] - 0s 6ms/step - loss: 0.1221 - accuracy: 0.9658 - val_loss: 0.1381 - val_accuracy: 0.9628\n",
            "Epoch 75/100\n",
            "12/12 [==============================] - 0s 5ms/step - loss: 0.1455 - accuracy: 0.9413 - val_loss: 0.1368 - val_accuracy: 0.9628\n",
            "Epoch 76/100\n",
            "12/12 [==============================] - 0s 5ms/step - loss: 0.1348 - accuracy: 0.9556 - val_loss: 0.1358 - val_accuracy: 0.9628\n",
            "Epoch 77/100\n",
            "12/12 [==============================] - 0s 6ms/step - loss: 0.1281 - accuracy: 0.9595 - val_loss: 0.1348 - val_accuracy: 0.9628\n",
            "Epoch 78/100\n",
            "12/12 [==============================] - 0s 6ms/step - loss: 0.1358 - accuracy: 0.9579 - val_loss: 0.1337 - val_accuracy: 0.9628\n",
            "Epoch 79/100\n",
            "12/12 [==============================] - 0s 5ms/step - loss: 0.1478 - accuracy: 0.9472 - val_loss: 0.1327 - val_accuracy: 0.9628\n",
            "Epoch 80/100\n",
            "12/12 [==============================] - 0s 6ms/step - loss: 0.1316 - accuracy: 0.9547 - val_loss: 0.1317 - val_accuracy: 0.9628\n",
            "Epoch 81/100\n",
            "12/12 [==============================] - 0s 5ms/step - loss: 0.1342 - accuracy: 0.9568 - val_loss: 0.1308 - val_accuracy: 0.9628\n",
            "Epoch 82/100\n",
            "12/12 [==============================] - 0s 6ms/step - loss: 0.1254 - accuracy: 0.9635 - val_loss: 0.1298 - val_accuracy: 0.9681\n",
            "Epoch 83/100\n",
            "12/12 [==============================] - 0s 5ms/step - loss: 0.1218 - accuracy: 0.9657 - val_loss: 0.1289 - val_accuracy: 0.9681\n",
            "Epoch 84/100\n",
            "12/12 [==============================] - 0s 6ms/step - loss: 0.1163 - accuracy: 0.9651 - val_loss: 0.1280 - val_accuracy: 0.9681\n",
            "Epoch 85/100\n",
            "12/12 [==============================] - 0s 5ms/step - loss: 0.1174 - accuracy: 0.9567 - val_loss: 0.1271 - val_accuracy: 0.9681\n",
            "Epoch 86/100\n",
            "12/12 [==============================] - 0s 6ms/step - loss: 0.1297 - accuracy: 0.9477 - val_loss: 0.1262 - val_accuracy: 0.9681\n",
            "Epoch 87/100\n",
            "12/12 [==============================] - 0s 5ms/step - loss: 0.1507 - accuracy: 0.9425 - val_loss: 0.1254 - val_accuracy: 0.9681\n",
            "Epoch 88/100\n",
            "12/12 [==============================] - 0s 6ms/step - loss: 0.1170 - accuracy: 0.9564 - val_loss: 0.1246 - val_accuracy: 0.9681\n",
            "Epoch 89/100\n",
            "12/12 [==============================] - 0s 6ms/step - loss: 0.1224 - accuracy: 0.9581 - val_loss: 0.1238 - val_accuracy: 0.9681\n",
            "Epoch 90/100\n",
            "12/12 [==============================] - 0s 6ms/step - loss: 0.1222 - accuracy: 0.9639 - val_loss: 0.1230 - val_accuracy: 0.9681\n",
            "Epoch 91/100\n",
            "12/12 [==============================] - 0s 5ms/step - loss: 0.1345 - accuracy: 0.9587 - val_loss: 0.1222 - val_accuracy: 0.9681\n",
            "Epoch 92/100\n",
            "12/12 [==============================] - 0s 5ms/step - loss: 0.1198 - accuracy: 0.9573 - val_loss: 0.1215 - val_accuracy: 0.9681\n",
            "Epoch 93/100\n",
            "12/12 [==============================] - 0s 5ms/step - loss: 0.1151 - accuracy: 0.9606 - val_loss: 0.1208 - val_accuracy: 0.9681\n",
            "Epoch 94/100\n",
            "12/12 [==============================] - 0s 5ms/step - loss: 0.1284 - accuracy: 0.9483 - val_loss: 0.1200 - val_accuracy: 0.9681\n",
            "Epoch 95/100\n",
            "12/12 [==============================] - 0s 5ms/step - loss: 0.1123 - accuracy: 0.9593 - val_loss: 0.1194 - val_accuracy: 0.9681\n",
            "Epoch 96/100\n",
            "12/12 [==============================] - 0s 6ms/step - loss: 0.1197 - accuracy: 0.9661 - val_loss: 0.1187 - val_accuracy: 0.9681\n",
            "Epoch 97/100\n",
            "12/12 [==============================] - 0s 5ms/step - loss: 0.1124 - accuracy: 0.9599 - val_loss: 0.1180 - val_accuracy: 0.9681\n",
            "Epoch 98/100\n",
            "12/12 [==============================] - 0s 5ms/step - loss: 0.1121 - accuracy: 0.9582 - val_loss: 0.1174 - val_accuracy: 0.9681\n",
            "Epoch 99/100\n",
            "12/12 [==============================] - 0s 5ms/step - loss: 0.1224 - accuracy: 0.9612 - val_loss: 0.1167 - val_accuracy: 0.9681\n",
            "Epoch 100/100\n",
            "12/12 [==============================] - 0s 5ms/step - loss: 0.1376 - accuracy: 0.9544 - val_loss: 0.1161 - val_accuracy: 0.9681\n",
            "12/12 [==============================] - 0s 1ms/step - loss: 0.1120 - accuracy: 0.9633\n",
            "Train Score: [0.11201027780771255, 0.9632545709609985]\n",
            "6/6 [==============================] - 0s 2ms/step - loss: 0.1161 - accuracy: 0.9681\n",
            "Test Score: [0.11608115583658218, 0.9680851101875305]\n"
          ],
          "name": "stdout"
        }
      ]
    },
    {
      "cell_type": "code",
      "metadata": {
        "colab": {
          "base_uri": "https://localhost:8080/",
          "height": 282
        },
        "id": "c3iw4a6erhHc",
        "outputId": "b4f67a2b-ccbf-438c-b116-1e0c2842fd0f"
      },
      "source": [
        "#Plot what's returned by model.fit()\n",
        "\n",
        "plt.plot(r.history['loss'], label = 'loss')\n",
        "plt.plot(r.history['val_loss'], label = 'val_loss')\n",
        "plt.legend()"
      ],
      "execution_count": 10,
      "outputs": [
        {
          "output_type": "execute_result",
          "data": {
            "text/plain": [
              "<matplotlib.legend.Legend at 0x7fd0fbb57610>"
            ]
          },
          "metadata": {
            "tags": []
          },
          "execution_count": 10
        },
        {
          "output_type": "display_data",
          "data": {
            "image/png": "[encoded data removed]",
            "text/plain": [
              "<Figure size 432x288 with 1 Axes>"
            ]
          },
          "metadata": {
            "tags": [],
            "needs_background": "light"
          }
        }
      ]
    },
    {
      "cell_type": "code",
      "metadata": {
        "colab": {
          "base_uri": "https://localhost:8080/",
          "height": 286
        },
        "id": "2qC89Uz1tnIu",
        "outputId": "f9a7818d-f568-4275-ecfc-801dd4ed6fae"
      },
      "source": [
        "#Plot what's returned by model.fit()\n",
        "plt.plot(r.history['accuracy'], label = 'accuracy')\n",
        "plt.plot(r.history['val_accuracy'], label = 'val_accuracy')\n",
        "plt.legend()\n"
      ],
      "execution_count": 11,
      "outputs": [
        {
          "output_type": "execute_result",
          "data": {
            "text/plain": [
              "<matplotlib.legend.Legend at 0x7fd0fcae5b50>"
            ]
          },
          "metadata": {
            "tags": []
          },
          "execution_count": 11
        },
        {
          "output_type": "display_data",
          "data": {
            "image/png": "[encoded data removed]",
            "text/plain": [
              "<Figure size 432x288 with 1 Axes>"
            ]
          },
          "metadata": {
            "tags": [],
            "needs_background": "light"
          }
        }
      ]
    },
    {
      "cell_type": "code",
      "metadata": {
        "id": "X9dbNXcKGR5A",
        "colab": {
          "base_uri": "https://localhost:8080/"
        },
        "outputId": "ba5607a0-f561-4445-a42e-79d9213d4731"
      },
      "source": [
        "#Make Prediction\n",
        "P = model.predict(X_test)\n",
        "print(P)"
      ],
      "execution_count": 12,
      "outputs": [
        {
          "output_type": "stream",
          "text": [
            "[[9.96802449e-01]\n",
            " [8.14339817e-02]\n",
            " [1.45837665e-03]\n",
            " [1.74488425e-02]\n",
            " [1.68124557e-01]\n",
            " [9.91910756e-01]\n",
            " [2.08185434e-01]\n",
            " [2.02935934e-03]\n",
            " [7.24610925e-01]\n",
            " [1.71774626e-03]\n",
            " [9.71661448e-01]\n",
            " [4.69008386e-02]\n",
            " [1.32421672e-01]\n",
            " [9.88461018e-01]\n",
            " [9.46878612e-01]\n",
            " [8.34884167e-01]\n",
            " [3.27348709e-04]\n",
            " [9.71993923e-01]\n",
            " [8.15540552e-04]\n",
            " [9.62444544e-01]\n",
            " [9.68966961e-01]\n",
            " [9.91671503e-01]\n",
            " [9.66035843e-01]\n",
            " [9.70316231e-01]\n",
            " [9.90804970e-01]\n",
            " [9.89172935e-01]\n",
            " [8.27524006e-01]\n",
            " [9.84889448e-01]\n",
            " [9.61419582e-01]\n",
            " [9.98931289e-01]\n",
            " [9.97780681e-01]\n",
            " [9.98245537e-01]\n",
            " [4.14937735e-04]\n",
            " [9.50437367e-01]\n",
            " [9.80394959e-01]\n",
            " [9.37292576e-01]\n",
            " [3.57615054e-02]\n",
            " [8.36760044e-01]\n",
            " [5.37267387e-01]\n",
            " [4.50387388e-01]\n",
            " [6.26678586e-01]\n",
            " [9.97113824e-01]\n",
            " [7.92477369e-01]\n",
            " [9.78839874e-01]\n",
            " [9.20963287e-03]\n",
            " [6.06980503e-01]\n",
            " [6.65795524e-05]\n",
            " [1.22063190e-01]\n",
            " [9.95347679e-01]\n",
            " [9.99163508e-01]\n",
            " [9.21947777e-01]\n",
            " [9.95130241e-01]\n",
            " [8.80050421e-01]\n",
            " [9.90899622e-01]\n",
            " [9.88627672e-01]\n",
            " [9.74304736e-01]\n",
            " [9.02464628e-01]\n",
            " [9.96024728e-01]\n",
            " [4.75078821e-04]\n",
            " [9.72804546e-01]\n",
            " [9.42417979e-03]\n",
            " [9.75095332e-01]\n",
            " [1.96188688e-04]\n",
            " [4.07521367e-01]\n",
            " [2.36556500e-01]\n",
            " [2.62723565e-02]\n",
            " [3.83112371e-01]\n",
            " [1.62678957e-03]\n",
            " [4.84064817e-02]\n",
            " [9.75509167e-01]\n",
            " [9.99768913e-01]\n",
            " [7.66060114e-01]\n",
            " [6.20029747e-01]\n",
            " [2.52515078e-03]\n",
            " [2.43809402e-01]\n",
            " [8.26713085e-01]\n",
            " [9.97140169e-01]\n",
            " [9.13106203e-01]\n",
            " [9.99324858e-01]\n",
            " [9.96883333e-01]\n",
            " [2.31238484e-01]\n",
            " [9.25291657e-01]\n",
            " [1.96361840e-02]\n",
            " [1.41659081e-02]\n",
            " [2.75184214e-02]\n",
            " [1.75408930e-01]\n",
            " [1.10086203e-02]\n",
            " [5.64481854e-01]\n",
            " [9.33799028e-01]\n",
            " [7.98919439e-01]\n",
            " [9.48418021e-01]\n",
            " [9.43300188e-01]\n",
            " [6.08414412e-04]\n",
            " [9.24459815e-01]\n",
            " [9.90644872e-01]\n",
            " [9.89541411e-01]\n",
            " [5.35219073e-01]\n",
            " [8.09411526e-01]\n",
            " [3.38661671e-03]\n",
            " [9.64830875e-01]\n",
            " [2.81557441e-03]\n",
            " [7.10132718e-03]\n",
            " [7.16340780e-01]\n",
            " [8.69032145e-01]\n",
            " [1.80637509e-01]\n",
            " [6.70312345e-01]\n",
            " [9.68795657e-01]\n",
            " [9.97626483e-01]\n",
            " [3.86860967e-03]\n",
            " [9.65033770e-01]\n",
            " [6.19869292e-01]\n",
            " [1.59998238e-02]\n",
            " [8.41545224e-01]\n",
            " [1.72823668e-04]\n",
            " [1.56473339e-01]\n",
            " [9.03066635e-01]\n",
            " [9.60710287e-01]\n",
            " [9.02820349e-01]\n",
            " [1.49486393e-01]\n",
            " [9.78654623e-01]\n",
            " [9.86952484e-01]\n",
            " [8.66382420e-01]\n",
            " [4.81894612e-03]\n",
            " [5.56587279e-02]\n",
            " [9.14724469e-01]\n",
            " [9.53189969e-01]\n",
            " [9.96451139e-01]\n",
            " [9.79104519e-01]\n",
            " [4.17607043e-06]\n",
            " [9.65612173e-01]\n",
            " [9.72606003e-01]\n",
            " [2.20358372e-04]\n",
            " [9.92946029e-01]\n",
            " [3.68857682e-02]\n",
            " [9.94118035e-01]\n",
            " [9.57116365e-01]\n",
            " [7.64208436e-02]\n",
            " [9.96451199e-01]\n",
            " [9.94932294e-01]\n",
            " [9.06984329e-01]\n",
            " [7.77526081e-01]\n",
            " [9.92583752e-01]\n",
            " [9.80607986e-01]\n",
            " [4.50104475e-04]\n",
            " [9.43024993e-01]\n",
            " [3.79269958e-01]\n",
            " [9.90008354e-01]\n",
            " [1.34971669e-05]\n",
            " [9.93172646e-01]\n",
            " [9.83012080e-01]\n",
            " [2.93729954e-06]\n",
            " [9.88676548e-01]\n",
            " [6.60017967e-01]\n",
            " [1.13309264e-01]\n",
            " [7.60142684e-01]\n",
            " [8.94279718e-01]\n",
            " [5.46926458e-06]\n",
            " [9.86360908e-01]\n",
            " [3.09911363e-09]\n",
            " [9.95168090e-01]\n",
            " [3.67453694e-03]\n",
            " [5.94145358e-02]\n",
            " [9.74056244e-01]\n",
            " [3.82775979e-05]\n",
            " [9.63162065e-01]\n",
            " [1.41039491e-03]\n",
            " [9.99451160e-01]\n",
            " [4.66424227e-03]\n",
            " [1.77830458e-04]\n",
            " [9.53263879e-01]\n",
            " [8.54235411e-01]\n",
            " [9.49468613e-01]\n",
            " [9.96849418e-01]\n",
            " [5.76416254e-01]\n",
            " [9.89968061e-01]\n",
            " [9.90305543e-01]\n",
            " [9.97675896e-01]\n",
            " [9.98646855e-01]\n",
            " [1.07941031e-03]\n",
            " [9.71749544e-01]\n",
            " [2.49657842e-05]\n",
            " [9.99583006e-01]\n",
            " [6.24605060e-01]\n",
            " [6.85930252e-03]\n",
            " [9.10363078e-01]\n",
            " [9.74082291e-01]\n",
            " [9.85940099e-01]\n",
            " [4.29338217e-01]]\n"
          ],
          "name": "stdout"
        }
      ]
    },
    {
      "cell_type": "code",
      "metadata": {
        "id": "ohHQV6A7GmzN"
      },
      "source": [
        "P = np.round(P).flatten()"
      ],
      "execution_count": 13,
      "outputs": []
    },
    {
      "cell_type": "code",
      "metadata": {
        "colab": {
          "base_uri": "https://localhost:8080/"
        },
        "id": "TevzaiSUG1jj",
        "outputId": "d084e6ed-7dd3-4325-87ec-c9abfa4bf0b4"
      },
      "source": [
        "print('Manually calculated accuracy:', np.mean(P == y_test))\n",
        "print('EValuate output             :', model.evaluate(X_test, y_test))"
      ],
      "execution_count": 14,
      "outputs": [
        {
          "output_type": "stream",
          "text": [
            "Manually calculated accuracy: 0.9680851063829787\n",
            "6/6 [==============================] - 0s 2ms/step - loss: 0.1161 - accuracy: 0.9681\n",
            "EValuate output             : [0.11608115583658218, 0.9680851101875305]\n"
          ],
          "name": "stdout"
        }
      ]
    }
  ]
}